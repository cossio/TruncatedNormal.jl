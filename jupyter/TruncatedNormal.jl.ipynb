{
 "cells": [
  {
   "cell_type": "code",
   "execution_count": 1,
   "metadata": {
    "collapsed": true
   },
   "outputs": [],
   "source": [
    "reload(\"TruncatedNormal\")"
   ]
  },
  {
   "cell_type": "code",
   "execution_count": 5,
   "metadata": {},
   "outputs": [
    {
     "name": "stdout",
     "output_type": "stream",
     "text": [
      "TruncatedNormal.gauss2Dmoment1(μ, Σ, a, b) = 119.99683376555747\n",
      "TruncatedNormal.gauss2Dmoment2(μ, Σ, a, b) = 200.0020650607263\n",
      "TruncatedNormal.gauss2Dmoment11(μ, Σ, a, b) = 14399.240123782782\n",
      "TruncatedNormal.gauss2Dmoment22(μ, Σ, a, b) = 40000.82603281923\n",
      "TruncatedNormal.gauss2Dmoment12(μ, Σ, a, b) = 23999.614553860327\n"
     ]
    }
   ],
   "source": [
    "a = (100, 200); b = (120, 230); \n",
    "μ = (0,0); Σ = [1 0.9; 0.9 1];\n",
    "@show TruncatedNormal.gauss2Dmoment1(μ,Σ,a,b);\n",
    "@show TruncatedNormal.gauss2Dmoment2(μ,Σ,a,b);\n",
    "@show TruncatedNormal.gauss2Dmoment11(μ,Σ,a,b);\n",
    "@show TruncatedNormal.gauss2Dmoment22(μ,Σ,a,b);\n",
    "@show TruncatedNormal.gauss2Dmoment12(μ,Σ,a,b);"
   ]
  },
  {
   "cell_type": "code",
   "execution_count": null,
   "metadata": {
    "collapsed": true
   },
   "outputs": [],
   "source": []
  }
 ],
 "metadata": {
  "kernelspec": {
   "display_name": "Julia 0.6.2",
   "language": "julia",
   "name": "julia-0.6"
  },
  "language_info": {
   "file_extension": ".jl",
   "mimetype": "application/julia",
   "name": "julia",
   "version": "0.6.2"
  }
 },
 "nbformat": 4,
 "nbformat_minor": 2
}
