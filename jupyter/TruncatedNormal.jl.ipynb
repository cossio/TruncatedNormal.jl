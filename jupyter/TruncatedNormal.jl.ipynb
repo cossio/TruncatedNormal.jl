{
 "cells": [
  {
   "cell_type": "code",
   "execution_count": 18,
   "metadata": {},
   "outputs": [
    {
     "name": "stderr",
     "output_type": "stream",
     "text": [
      "WARNING: replacing module TruncatedNormal\n"
     ]
    }
   ],
   "source": [
    "reload(\"TruncatedNormal\")"
   ]
  },
  {
   "cell_type": "code",
   "execution_count": 4,
   "metadata": {},
   "outputs": [
    {
     "name": "stdout",
     "output_type": "stream",
     "text": [
      "TruncatedNormal.gauss2Dmoment1(μ, Σ, a, b) = 119.99683376555747\n",
      "TruncatedNormal.gauss2Dmoment2(μ, Σ, a, b) = 200.0020650607263\n",
      "TruncatedNormal.gauss2Dmoment11(μ, Σ, a, b) = 14399.240123782782\n",
      "TruncatedNormal.gauss2Dmoment22(μ, Σ, a, b) = 40000.82603281923\n",
      "TruncatedNormal.gauss2Dmoment12(μ, Σ, a, b) = 23999.614553860327\n"
     ]
    }
   ],
   "source": [
    "a = (100, 200); b = (120, 230); \n",
    "μ = (0,0); Σ = [1 0.9; 0.9 1];\n",
    "@show TruncatedNormal.gauss2Dmoment1(μ,Σ,a,b);\n",
    "@show TruncatedNormal.gauss2Dmoment2(μ,Σ,a,b);\n",
    "@show TruncatedNormal.gauss2Dmoment11(μ,Σ,a,b);\n",
    "@show TruncatedNormal.gauss2Dmoment22(μ,Σ,a,b);\n",
    "@show TruncatedNormal.gauss2Dmoment12(μ,Σ,a,b);"
   ]
  },
  {
   "cell_type": "code",
   "execution_count": 19,
   "metadata": {},
   "outputs": [],
   "source": [
    "lb = [724.1281846948646, -0.3248194681994417];\n",
    "ub = [2518.3641949975517, 0.5111929404723518];\n",
    "Σ = [1. -0.022020238658485524; -0.022020238658485524 1.];\n",
    "N = 1000000\n",
    "X = TruncatedNormal.R.sample_truncated_bivariate_gaussian(lb, ub, Σ, N);"
   ]
  },
  {
   "cell_type": "code",
   "execution_count": 20,
   "metadata": {},
   "outputs": [
    {
     "data": {
      "text/plain": [
       "2×1 Array{Float64,2}:\n",
       " 724.13    \n",
       "  -0.261458"
      ]
     },
     "execution_count": 20,
     "metadata": {},
     "output_type": "execute_result"
    }
   ],
   "source": [
    "mean(X, 2)"
   ]
  },
  {
   "cell_type": "code",
   "execution_count": 17,
   "metadata": {},
   "outputs": [
    {
     "data": {
      "text/plain": [
       "0.07230821927819264"
      ]
     },
     "execution_count": 17,
     "metadata": {},
     "output_type": "execute_result"
    }
   ],
   "source": [
    "mean(X[2,:] .* X[2,:])"
   ]
  },
  {
   "cell_type": "code",
   "execution_count": 9,
   "metadata": {},
   "outputs": [
    {
     "data": {
      "text/plain": [
       "2×10 Array{Float64,2}:\n",
       " 0.26167   0.78241   0.24387   0.362134  …  0.664261  0.885704  0.874943\n",
       " 0.164832  0.510643  0.411596  0.132475     0.496726  0.852293  0.609718"
      ]
     },
     "execution_count": 9,
     "metadata": {},
     "output_type": "execute_result"
    }
   ],
   "source": [
    "lb = [0,0]\n",
    "ub = [1,1]\n",
    "Sig = [1 0; 0 1]\n",
    "N = 10\n",
    "RCall.@rlibrary(\"TruncatedNormal\")\n",
    "RCall.@rput lb\n",
    "RCall.@rput ub\n",
    "RCall.@rput Sig\n",
    "RCall.@rput N\n",
    "RCall.R\"X <- TruncatedNormal::mvrandn(l = lb, u = ub, Sig = Sig, n = N)\"\n",
    "RCall.@rget X"
   ]
  },
  {
   "cell_type": "code",
   "execution_count": 10,
   "metadata": {},
   "outputs": [
    {
     "data": {
      "text/plain": [
       "2×10 Array{Float64,2}:\n",
       " 0.26167   0.78241   0.24387   0.362134  …  0.664261  0.885704  0.874943\n",
       " 0.164832  0.510643  0.411596  0.132475     0.496726  0.852293  0.609718"
      ]
     },
     "execution_count": 10,
     "metadata": {},
     "output_type": "execute_result"
    }
   ],
   "source": [
    "X"
   ]
  },
  {
   "cell_type": "code",
   "execution_count": null,
   "metadata": {
    "collapsed": true
   },
   "outputs": [],
   "source": []
  }
 ],
 "metadata": {
  "kernelspec": {
   "display_name": "Julia 0.6.3",
   "language": "julia",
   "name": "julia-0.6"
  },
  "language_info": {
   "file_extension": ".jl",
   "mimetype": "application/julia",
   "name": "julia",
   "version": "0.6.3"
  }
 },
 "nbformat": 4,
 "nbformat_minor": 2
}
