{
 "cells": [
  {
   "cell_type": "code",
   "execution_count": 21,
   "metadata": {},
   "outputs": [
    {
     "name": "stderr",
     "output_type": "stream",
     "text": [
      "WARNING: replacing module TruncatedNormal\n"
     ]
    }
   ],
   "source": [
    "reload(\"TruncatedNormal\")"
   ]
  },
  {
   "cell_type": "code",
   "execution_count": 4,
   "metadata": {},
   "outputs": [
    {
     "name": "stdout",
     "output_type": "stream",
     "text": [
      "TruncatedNormal.gauss2Dmoment1(μ, Σ, a, b) = 119.99683376555747\n",
      "TruncatedNormal.gauss2Dmoment2(μ, Σ, a, b) = 200.0020650607263\n",
      "TruncatedNormal.gauss2Dmoment11(μ, Σ, a, b) = 14399.240123782782\n",
      "TruncatedNormal.gauss2Dmoment22(μ, Σ, a, b) = 40000.82603281923\n",
      "TruncatedNormal.gauss2Dmoment12(μ, Σ, a, b) = 23999.614553860327\n"
     ]
    }
   ],
   "source": [
    "a = (100, 200); b = (120, 230); \n",
    "μ = (0,0); Σ = [1 0.9; 0.9 1];\n",
    "@show TruncatedNormal.gauss2Dmoment1(μ,Σ,a,b);\n",
    "@show TruncatedNormal.gauss2Dmoment2(μ,Σ,a,b);\n",
    "@show TruncatedNormal.gauss2Dmoment11(μ,Σ,a,b);\n",
    "@show TruncatedNormal.gauss2Dmoment22(μ,Σ,a,b);\n",
    "@show TruncatedNormal.gauss2Dmoment12(μ,Σ,a,b);"
   ]
  },
  {
   "cell_type": "code",
   "execution_count": 24,
   "metadata": {},
   "outputs": [],
   "source": [
    "lb = [724.1281846948646, -0.3248194681994417];\n",
    "ub = [2518.3641949975517, 0.5111929404723518];\n",
    "μ = [10., 10.]\n",
    "Σ = [1. -0.022020238658485524; -0.022020238658485524 1.];\n",
    "N = 1000000\n",
    "X = TruncatedNormal.R.sample_truncated_bivariate_gaussian(lb, ub, μ, Σ, N);"
   ]
  },
  {
   "cell_type": "code",
   "execution_count": 25,
   "metadata": {},
   "outputs": [
    {
     "data": {
      "text/plain": [
       "2×1000000 Array{Float64,2}:\n",
       " 724.129      724.131      724.13      …  724.128     724.128     724.128   \n",
       "   0.0972926   -0.0701924   -0.143469      -0.247078   -0.234629   -0.275453"
      ]
     },
     "execution_count": 25,
     "metadata": {},
     "output_type": "execute_result"
    }
   ],
   "source": [
    "X"
   ]
  },
  {
   "cell_type": "code",
   "execution_count": null,
   "metadata": {
    "collapsed": true
   },
   "outputs": [],
   "source": []
  }
 ],
 "metadata": {
  "kernelspec": {
   "display_name": "Julia 0.6.3",
   "language": "julia",
   "name": "julia-0.6"
  },
  "language_info": {
   "file_extension": ".jl",
   "mimetype": "application/julia",
   "name": "julia",
   "version": "0.6.3"
  }
 },
 "nbformat": 4,
 "nbformat_minor": 2
}
