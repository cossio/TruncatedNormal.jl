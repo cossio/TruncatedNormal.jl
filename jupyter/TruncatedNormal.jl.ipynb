{
 "cells": [
  {
   "cell_type": "code",
   "execution_count": 3,
   "metadata": {},
   "outputs": [],
   "source": [
    "reload(\"TruncatedNormal\")"
   ]
  },
  {
   "cell_type": "code",
   "execution_count": 4,
   "metadata": {},
   "outputs": [
    {
     "name": "stdout",
     "output_type": "stream",
     "text": [
      "TruncatedNormal.gauss2Dmoment1(μ, Σ, a, b) = 119.99683376555747\n",
      "TruncatedNormal.gauss2Dmoment2(μ, Σ, a, b) = 200.0020650607263\n",
      "TruncatedNormal.gauss2Dmoment11(μ, Σ, a, b) = 14399.240123782782\n",
      "TruncatedNormal.gauss2Dmoment22(μ, Σ, a, b) = 40000.82603281923\n",
      "TruncatedNormal.gauss2Dmoment12(μ, Σ, a, b) = 23999.614553860327\n"
     ]
    }
   ],
   "source": [
    "a = (100, 200); b = (120, 230); \n",
    "μ = (0,0); Σ = [1 0.9; 0.9 1];\n",
    "@show TruncatedNormal.gauss2Dmoment1(μ,Σ,a,b);\n",
    "@show TruncatedNormal.gauss2Dmoment2(μ,Σ,a,b);\n",
    "@show TruncatedNormal.gauss2Dmoment11(μ,Σ,a,b);\n",
    "@show TruncatedNormal.gauss2Dmoment22(μ,Σ,a,b);\n",
    "@show TruncatedNormal.gauss2Dmoment12(μ,Σ,a,b);"
   ]
  },
  {
   "cell_type": "code",
   "execution_count": 5,
   "metadata": {},
   "outputs": [
    {
     "name": "stderr",
     "output_type": "stream",
     "text": [
      "\u001b[1m\u001b[33mWARNING: \u001b[39m\u001b[22m\u001b[33mRCall.jl: Loading required package: randtoolbox\n",
      "Loading required package: rngWELL\n",
      "This is randtoolbox. For overview, type 'help(\"randtoolbox\")'.\u001b[39m\n"
     ]
    }
   ],
   "source": [
    "lb = [724.1281846948646, -0.3248194681994417];\n",
    "ub = [2518.3641949975517, 0.5111929404723518];\n",
    "μ = [10., 10.]\n",
    "Σ = [1. -0.022020238658485524; -0.022020238658485524 1.];\n",
    "N = 1000000\n",
    "X = TruncatedNormal.R.sample_truncated_bivariate_gaussian(μ, Σ, lb, ub, N);"
   ]
  },
  {
   "cell_type": "code",
   "execution_count": 8,
   "metadata": {},
   "outputs": [
    {
     "data": {
      "text/plain": [
       "-113.12327416280743"
      ]
     },
     "execution_count": 8,
     "metadata": {},
     "output_type": "execute_result"
    }
   ],
   "source": [
    "mean(X[1,:] .* X[2,:])"
   ]
  },
  {
   "cell_type": "code",
   "execution_count": 9,
   "metadata": {},
   "outputs": [
    {
     "data": {
      "text/plain": [
       "2×2 Array{Float64,2}:\n",
       "    5.24364e5  -113.123    \n",
       " -113.123         0.0486089"
      ]
     },
     "execution_count": 9,
     "metadata": {},
     "output_type": "execute_result"
    }
   ],
   "source": [
    "[mean(X[i,:] .* X[j,:]) for i = 1:2, j = 1:2]"
   ]
  },
  {
   "cell_type": "code",
   "execution_count": null,
   "metadata": {
    "collapsed": true
   },
   "outputs": [],
   "source": []
  }
 ],
 "metadata": {
  "kernelspec": {
   "display_name": "Julia 0.6.3",
   "language": "julia",
   "name": "julia-0.6"
  },
  "language_info": {
   "file_extension": ".jl",
   "mimetype": "application/julia",
   "name": "julia",
   "version": "0.6.3"
  }
 },
 "nbformat": 4,
 "nbformat_minor": 2
}
